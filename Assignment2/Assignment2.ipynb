{
 "cells": [
  {
   "cell_type": "markdown",
   "metadata": {},
   "source": [
    "<h2 align=\"center\">CSxxxx Numerical Methods</h2> \n",
    "<h3 align=\"center\">Assignment 2</h3> \n",
    "<h3 align=\"center\">Rajat Vadiraj Dwaraknath - EE16B033</h3>\n",
    "\n",
    "---\n",
    "We first import numpy and matplotlib using pylab, and increase the size of the plots."
   ]
  },
  {
   "cell_type": "code",
   "execution_count": 1,
   "metadata": {
    "collapsed": false
   },
   "outputs": [
    {
     "name": "stdout",
     "output_type": "stream",
     "text": [
      "Populating the interactive namespace from numpy and matplotlib\n"
     ]
    }
   ],
   "source": [
    "# Importing matplotlib and numpy directly\n",
    "# Python 2.7\n",
    "%pylab inline\n",
    "rcParams['figure.figsize'] = 12, 9 # Increase size of plots"
   ]
  },
  {
   "cell_type": "markdown",
   "metadata": {},
   "source": [
    "1) For the first function, using integration by parts, we arrive at the following indefinite integral\n",
    "\n",
    "$$\\int_{0}^{\\pi} e^{-x}\\cos^{2}x = -e^{-x}(0.5 - 0.1(2\\sin 2x - \\cos 2x))$$\n",
    "\n",
    "\n",
    "which when evaluated yields\n",
    "\n",
    "$$0.6(1-e^{-\\pi}) \\approx 0.5470$$\n",
    "\n",
    "We then implement the trapezoidal method and the required functions in python as follows:"
   ]
  },
  {
   "cell_type": "code",
   "execution_count": 2,
   "metadata": {
    "collapsed": false
   },
   "outputs": [],
   "source": [
    "def trap(f, a, b, n):\n",
    "    \"\"\"Performs trapezoidal integration of f from a to b using n trapezoids\"\"\"\n",
    "    dx = float(b-a)/n\n",
    "    area = f((a) + f(b))/2\n",
    "    for i in xrange(1, n):\n",
    "        area += f(a+i*dx)\n",
    "\n",
    "    return area*dx"
   ]
  },
  {
   "cell_type": "code",
   "execution_count": 3,
   "metadata": {
    "collapsed": true
   },
   "outputs": [],
   "source": [
    "def function1(x):\n",
    "    \"\"\"Returns the value of the first function\"\"\"\n",
    "    y = exp(-x)*cos(x)**2\n",
    "    return y\n",
    "\n",
    "def function2(x):\n",
    "    \"\"\"Returns the value of the second function\"\"\"\n",
    "    if x>1 or x<-1: # To deal with precision errors which sometimes make x slightly greater than 1 leading to an error\n",
    "        return 1\n",
    "    y = cos(2*arccos(x))\n",
    "    return y\n",
    "\n",
    "# Antiderivative of function1\n",
    "def inty1(x):\n",
    "    \"\"\"Returns the value of the antiderivate of the first function\"\"\"\n",
    "    y = -exp(-x)*(0.5 - 0.1*(2*sin(2*x) - cos(2*x)))\n",
    "    return y"
   ]
  },
  {
   "cell_type": "markdown",
   "metadata": {},
   "source": [
    "We can now numerically evaluate the integral and find the error compared to the value obtained by analytically evaluating the same."
   ]
  },
  {
   "cell_type": "code",
   "execution_count": 4,
   "metadata": {
    "collapsed": false
   },
   "outputs": [
    {
     "name": "stdout",
     "output_type": "stream",
     "text": [
      "Evaluated Area = 0.573935\tActual Area = 0.574072\t Relative error = 0.000237\n"
     ]
    }
   ],
   "source": [
    "# Evaluate area using arbitrarily large number of trapezoids, say 1000\n",
    "evalArea = trap(function1, 0, pi, 1000)\n",
    "actualArea = inty1(pi) - inty1(0)\n",
    "analyticError = abs((evalArea - actualArea)/actualArea)\n",
    "print(\"Evaluated Area = %.6f\\tActual Area = %.6f\\t Relative error = %.6f\" % (evalArea, actualArea, analyticError))"
   ]
  },
  {
   "cell_type": "markdown",
   "metadata": {},
   "source": [
    "2) To make the difference between the area calculated by trap and by numpy.trapz $<10^{-6}$ , we must increase the number of trapezoids upto to $10^{6}$:"
   ]
  },
  {
   "cell_type": "code",
   "execution_count": 5,
   "metadata": {
    "collapsed": false
   },
   "outputs": [
    {
     "name": "stdout",
     "output_type": "stream",
     "text": [
      "Absolute difference between trap and numpy.trapz = 0.0000002729\n"
     ]
    }
   ],
   "source": [
    "trapArea = trap(function1, 0, pi, int(1e6))\n",
    "dx = pi*1e-6\n",
    "x = np.arange(0,pi+dx,dx) # Required for numpy.trapz\n",
    "y = [function1(i) for i in x]\n",
    "numpyArea = numpy.trapz(y,x) # Find area using numpy.trapz\n",
    "\n",
    "# Find absolute difference\n",
    "difference = abs(numpyArea - trapArea)\n",
    "print(\"Absolute difference between trap and numpy.trapz = %.10f\" % difference)"
   ]
  },
  {
   "cell_type": "markdown",
   "metadata": {},
   "source": [
    "Now, we gradually increase the number of trapezoids until the relative difference falls below a certain threshold. We can then plot the relative difference with the number of trapezoids using matplotlib. This is done in the function evalIntegral."
   ]
  },
  {
   "cell_type": "code",
   "execution_count": 6,
   "metadata": {
    "collapsed": true
   },
   "outputs": [],
   "source": [
    "def evalIntegral(f, a, b, errorThreshold):\n",
    "    \"\"\"Repeatedly integrates f from a to b, increasing the number of trapezoids until the relative difference between \n",
    "    the value obtained from trap and numpy.trapz is less than errorThreshold, and also plots this \n",
    "    difference vs number of trapezoids\"\"\"\n",
    "    n = 10 # Number of trapezoids\n",
    "    ns = [] # List of n values\n",
    "    errors = [] # List of error values\n",
    "    \n",
    "    # Finding area using trap and numpy.trapz and finding the difference\n",
    "    error = 1\n",
    "    while error>errorThreshold:\n",
    "        ns.append(n) # Add to list of n\n",
    "        dx = float(b-a)/n # Find stepsize\n",
    "        area = trap(f, a, b, n) # Find area using trap\n",
    "        \n",
    "        x = numpy.arange(a,b+dx,dx) # Required for numpy.trapz\n",
    "        y = [f(i) for i in x]\n",
    "        numpyArea = numpy.trapz(y,x) # Find area using numpy.trapz  \n",
    "        \n",
    "        error = abs((area - numpyArea)/numpyArea) # Calculate relative error\n",
    "        errors.append(error) # Add to list of errors\n",
    "        n+=10 # Increment n\n",
    "        \n",
    "    # Plotting the data:\n",
    "    plot(ns,errors)\n",
    "    xlabel(\"Number of trapezoids\")\n",
    "    ylabel(\"Relative error compared to numpy\")\n",
    "    "
   ]
  },
  {
   "cell_type": "code",
   "execution_count": 7,
   "metadata": {
    "collapsed": false,
    "scrolled": false
   },
   "outputs": [
    {
     "data": {
      "image/png": "[encoded data removed]",
      "text/plain": [
       "<matplotlib.figure.Figure at 0x6958978>"
      ]
     },
     "metadata": {},
     "output_type": "display_data"
    }
   ],
   "source": [
    "# For the first function\n",
    "evalIntegral(function1, 0, 3.14, 0.001)"
   ]
  },
  {
   "cell_type": "code",
   "execution_count": 8,
   "metadata": {
    "collapsed": false
   },
   "outputs": [
    {
     "data": {
      "image/png": "[encoded data removed]",
      "text/plain": [
       "<matplotlib.figure.Figure at 0x963e358>"
      ]
     },
     "metadata": {},
     "output_type": "display_data"
    }
   ],
   "source": [
    "# For the second function\n",
    "evalIntegral(function2, -1, 1, 0.001)"
   ]
  },
  {
   "cell_type": "markdown",
   "metadata": {
    "collapsed": true
   },
   "source": [
    "We can conclude from the above graphs that the error decreases as the number of trapezoids is increased."
   ]
  },
  {
   "cell_type": "markdown",
   "metadata": {
    "collapsed": true
   },
   "source": [
    "3) Advantages in using Python compared to C:\n",
    "* Code is simpler, shorter and easier to type and read.\n",
    "* Access to a large number of libraries including numerical libraries and convenient plotting of graphs.\n",
    "* IPython and IPython Notebooks are very convenient and effective for projects and assignments which involve both code and text.\n",
    "\n",
    "Disadvantages in using Python compared to C:\n",
    "* Python is considerably slower than C."
   ]
  }
 ],
 "metadata": {
  "anaconda-cloud": {},
  "kernelspec": {
   "display_name": "Python [Root]",
   "language": "python",
   "name": "Python [Root]"
  },
  "language_info": {
   "codemirror_mode": {
    "name": "ipython",
    "version": 2
   },
   "file_extension": ".py",
   "mimetype": "text/x-python",
   "name": "python",
   "nbconvert_exporter": "python",
   "pygments_lexer": "ipython2",
   "version": "2.7.12"
  }
 },
 "nbformat": 4,
 "nbformat_minor": 0
}
