{
 "cells": [
  {
   "cell_type": "markdown",
   "metadata": {},
   "source": [
    "<h2 align=\"center\">EE1103 Numerical Methods</h2> \n",
    "<h3 align=\"center\">Assignment 4</h3> \n",
    "<h3 align=\"center\">Rajat Vadiraj Dwaraknath - EE16B033</h3>\n",
    "\n",
    "---\n",
    "We first import numpy and matplotlib using pylab, and increase the size of the plots."
   ]
  },
  {
   "cell_type": "code",
   "execution_count": 1,
   "metadata": {
    "collapsed": false
   },
   "outputs": [
    {
     "name": "stdout",
     "output_type": "stream",
     "text": [
      "Populating the interactive namespace from numpy and matplotlib\n"
     ]
    }
   ],
   "source": [
    "# Importing matplotlib and numpy directly\n",
    "# Python 2.7\n",
    "%pylab inline\n",
    "rcParams['figure.figsize'] = 12, 9 # Increase size of plots"
   ]
  },
  {
   "cell_type": "markdown",
   "metadata": {},
   "source": [
    "###  Answers to the questions\n",
    "\n",
    "##### 1 (a)\n",
    "The program is written in C and it is submitted as **assignment4.c**. A sample output of the program has also been submitted as **numbers.txt**. This contains $10^{6}$ numbers using the seed $120398120938111$. The output has been redirected into a text file so that this notebook(or the **histogramPlot.py** file) can access the random numbers to plot the data.\n",
    "  \n",
    "##### 1 (b)\n",
    "The above program has been modified to produce numbers between $0$ and $1$ by dividing each number by the constant $m = 2^{32}$ because that is the largest possible number which can be generated using the given recurrence.\n",
    "  \n",
    "##### 1 (c)\n",
    "Yes, there are disadvantages to using this formulation. Firstly, the random numbers form a uniform distribution, which may not be desirable. Secondly, the sequence of random numbers will eventually repeat itself after $m$ numbers have been generated, thereby making the sequence pseudorandom and not truly random.  \n",
    "\n",
    "If $m$ is decreased, the period after which the cycle of numbers repeats decreases and the range of numbers generated also reduces. This makes the numbers less random.  \n",
    "  \n",
    "##### 2\n",
    "The histogram of the data in the **numbers.txt** file has been plotted  below."
   ]
  },
  {
   "cell_type": "code",
   "execution_count": 2,
   "metadata": {
    "collapsed": false
   },
   "outputs": [
    {
     "data": {
      "image/png": "[encoded data removed]",
      "text/plain": [
       "<matplotlib.figure.Figure at 0x6a35fd0>"
      ]
     },
     "metadata": {},
     "output_type": "display_data"
    }
   ],
   "source": [
    "fo = open(\"numbers.txt\", 'r') # File opened in read only mode.\n",
    "nums = fo.read().split(\"\\n\") # Each line of the file is extracted.\n",
    "\n",
    "# Each line(except the last end of file(EOF) line) is parsed to a float unless the line begins with a #(comment).\n",
    "nums = [float(i) for i in nums[:-1] if i[0]!='#'] \n",
    "\n",
    "intervals = 100 # Number of intervals in the histogram.\n",
    "# Plotting the histogram.\n",
    "hist(nums,intervals) \n",
    "xlabel(\"Random number intervals\")\n",
    "ylabel(\"Frequency of occurence of the numbers in the intervals\")\n",
    "\n",
    "fo.close() # Closing the opened file."
   ]
  },
  {
   "cell_type": "markdown",
   "metadata": {
    "collapsed": true
   },
   "source": [
    "We observe from the plot that the histogram does not resemble a normal or Gaussian distribution. Since each of the bars of the histrogram are approximately equal in height, we can infer that the random numbers generated using the given recurrence have a uniform distribution where the probability density function is given by \n",
    "\n",
    "$$\\rho (x) = 1 \\:,\\: x \\in [0,1]$$\n",
    "\n",
    "The mean can be found using\n",
    "\n",
    "$$<x> = \\int_{0}^{1} \\rho(x)xdx = 0.5$$\n",
    "\n",
    "The mean of the squares can also be found\n",
    "\n",
    "$$<x^{2}> = \\int_{0}^{1} \\rho(x)x^{2}dx = \\frac{1}{3}$$\n",
    "\n",
    "The standard deviation is therefore\n",
    "\n",
    "$$\\sqrt{<x^{2}> - <x>^{2}} \\approx 0.288$$\n",
    "\n",
    "The above values closely match with the values obtained using the C program. This confirms that the above distribution is a uniform distribution."
   ]
  },
  {
   "cell_type": "code",
   "execution_count": null,
   "metadata": {
    "collapsed": true
   },
   "outputs": [],
   "source": []
  }
 ],
 "metadata": {
  "anaconda-cloud": {},
  "kernelspec": {
   "display_name": "Python [Root]",
   "language": "python",
   "name": "Python [Root]"
  },
  "language_info": {
   "codemirror_mode": {
    "name": "ipython",
    "version": 2
   },
   "file_extension": ".py",
   "mimetype": "text/x-python",
   "name": "python",
   "nbconvert_exporter": "python",
   "pygments_lexer": "ipython2",
   "version": "2.7.12"
  }
 },
 "nbformat": 4,
 "nbformat_minor": 0
}
